{
 "cells": [
  {
   "cell_type": "code",
   "execution_count": 2,
   "metadata": {},
   "outputs": [
    {
     "name": "stdout",
     "output_type": "stream",
     "text": [
      "<!DOCTYPE html>\n",
      "<html dir=\"ltr\" lang=\"da\" xml:lang=\"da\">\n",
      " <head>\n",
      "  <title>\n",
      "   Moodle\n",
      "  </title>\n",
      "  <l\n",
      "--------\n",
      "https://cphbusiness.mrooms.net\n",
      "https://cphbusiness.mrooms.net/login/index.php\n",
      "https://cphbusiness.mrooms.net/mahara/auth/xmlrpc/jump.php?hostwwwroot=https%3A%2F%2Fcphbusiness.mrooms.net&wantsurl=%2F&remoteurl=1\n",
      "https://cphbusiness.mrooms.net/login/index.php\n",
      "https://cphbusiness.mrooms.net/login/index.php\n",
      "https://cphbusiness.mrooms.net/calendar/view.php?view=month&time=1647352571\n",
      "https://cphbusiness.mrooms.net/calendar/view.php?view=day&time=1647298800\n",
      "https://cphbusiness.mrooms.net/course/view.php?id=3329\n",
      "https://cphbusiness.mrooms.net/login/index.php?saml=off\n",
      "https://selvbetjening.cphbusiness.dk/\n",
      "https://outlook.office.com/\n",
      "https://europe.wiseflow.net/login\n",
      "https://www.linkedin.com/learning/\n",
      "https://efif-my.sharepoint.com/_layouts/15/MySite.aspx?MySiteRedirect=AllDocuments\n",
      "https://cphbusiness.padlet.org\n",
      "https://cphbusiness.planetestream.com\n",
      "https://wayf.survey-xact.dk/\n",
      "https://cphbusiness.zoom.us\n",
      "https://play.google.com/store/apps/details?id=com.openlms.openlmsmobile&pcampaignid=pcampaignidMKT-Other-global-all-co-prtnr-py-PartBadge-Mar2515-1\n",
      "https://apps.apple.com/us/app/open-lms/id1553337282?ign-itsct=apps_box&ign-itscg=30200\n",
      "https://cphbusiness.mrooms.net/user/language.php\n",
      "https://www.facebook.com/copenhagenbusinessacademy\n",
      "https://www.linkedin.com/school/2465269/\n",
      "https://www.youtube.com/user/cphbusiness\n",
      "https://www.instagram.com/cphbusiness\n",
      "https://cphbusiness.mrooms.net/admin/tool/dataprivacy/summary.php\n",
      "https://www.openlms.net/open-lms-mobile-app/\n"
     ]
    }
   ],
   "source": [
    "import requests\n",
    "from bs4 import BeautifulSoup\n",
    "url = requests.get(\"https://cphbusiness.mrooms.net\")\n",
    "soup = BeautifulSoup(url.text, 'lxml'\n",
    "print(soup.prettify()[:100])\n",
    "print('--------')\n",
    "for link in soup.find_all('a'):\n",
    "    if not link.get('href').startswith('https'):\n",
    "        continue\n",
    "    print(link.get('href'))"
   ]
  },
  {
   "cell_type": "code",
   "execution_count": null,
   "metadata": {},
   "outputs": [],
   "source": []
  }
 ],
 "metadata": {
  "kernelspec": {
   "display_name": "Python 3",
   "language": "python",
   "name": "python3"
  },
  "language_info": {
   "codemirror_mode": {
    "name": "ipython",
    "version": 3
   },
   "file_extension": ".py",
   "mimetype": "text/x-python",
   "name": "python",
   "nbconvert_exporter": "python",
   "pygments_lexer": "ipython3",
   "version": "3.7.6"
  }
 },
 "nbformat": 4,
 "nbformat_minor": 4
}
